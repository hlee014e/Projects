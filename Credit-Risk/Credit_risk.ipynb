{
  "metadata": {
    "kernelspec": {
      "language": "python",
      "display_name": "Python 3",
      "name": "python3"
    },
    "language_info": {
      "name": "python",
      "version": "3.11.13",
      "mimetype": "text/x-python",
      "codemirror_mode": {
        "name": "ipython",
        "version": 3
      },
      "pygments_lexer": "ipython3",
      "nbconvert_exporter": "python",
      "file_extension": ".py"
    },
    "kaggle": {
      "accelerator": "none",
      "dataSources": [
        {
          "sourceId": 2327131,
          "sourceType": "datasetVersion",
          "datasetId": 1404394
        },
        {
          "sourceId": 6563377,
          "sourceType": "datasetVersion",
          "datasetId": 3781015
        },
        {
          "sourceId": 9341109,
          "sourceType": "datasetVersion",
          "datasetId": 5660999
        }
      ],
      "dockerImageVersionId": 31089,
      "isInternetEnabled": false,
      "language": "python",
      "sourceType": "notebook",
      "isGpuEnabled": false
    },
    "colab": {
      "provenance": [],
      "include_colab_link": true
    }
  },
  "nbformat_minor": 0,
  "nbformat": 4,
  "cells": [
    {
      "cell_type": "markdown",
      "metadata": {
        "id": "view-in-github",
        "colab_type": "text"
      },
      "source": [
        "<a href=\"https://colab.research.google.com/github/hlee014e/Projects/blob/main/Credit-Risk/Credit_risk.ipynb\" target=\"_parent\"><img src=\"https://colab.research.google.com/assets/colab-badge.svg\" alt=\"Open In Colab\"/></a>"
      ]
    },
    {
      "cell_type": "markdown",
      "source": [
        "**Data from Kaggle**"
      ],
      "metadata": {
        "id": "reoWNhvOvj1h"
      }
    },
    {
      "cell_type": "markdown",
      "source": [],
      "metadata": {
        "id": "srVrnnGPvigR"
      }
    },
    {
      "cell_type": "markdown",
      "source": [],
      "metadata": {
        "id": "J9-a2PwcveSP"
      }
    },
    {
      "source": [
        "# IMPORTANT: RUN THIS CELL IN ORDER TO IMPORT YOUR KAGGLE DATA SOURCES,\n",
        "# THEN FEEL FREE TO DELETE THIS CELL.\n",
        "# NOTE: THIS NOTEBOOK ENVIRONMENT DIFFERS FROM KAGGLE'S PYTHON\n",
        "# ENVIRONMENT SO THERE MAY BE MISSING LIBRARIES USED BY YOUR\n",
        "# NOTEBOOK.\n",
        "import kagglehub\n",
        "ranadeep_credit_risk_dataset_path = kagglehub.dataset_download('ranadeep/credit-risk-dataset')\n",
        "#siddhantsindhkar_credit_risk_path = kagglehub.dataset_download('siddhantsindhkar/credit-risk')\n",
        "#lorenzozoppelletto_financial_risk_for_loan_approval_path = kagglehub.dataset_download('lorenzozoppelletto/financial-risk-for-loan-approval')\n",
        "\n",
        "print('Data source import complete.')\n"
      ],
      "metadata": {
        "id": "g0xvf2vgph3W",
        "outputId": "f3e8c91c-d525-40f6-cd9f-66354ff92bfa",
        "colab": {
          "base_uri": "https://localhost:8080/"
        }
      },
      "cell_type": "code",
      "outputs": [
        {
          "output_type": "stream",
          "name": "stdout",
          "text": [
            "Using Colab cache for faster access to the 'credit-risk-dataset' dataset.\n",
            "Data source import complete.\n"
          ]
        }
      ],
      "execution_count": 1
    },
    {
      "cell_type": "code",
      "source": [
        "# This Python 3 environment comes with many helpful analytics libraries installed\n",
        "# It is defined by the kaggle/python Docker image: https://github.com/kaggle/docker-python\n",
        "# For example, here's several helpful packages to load\n",
        "\n",
        "import numpy as np # linear algebra\n",
        "import pandas as pd # data processing, CSV file I/O (e.g. pd.read_csv)\n",
        "\n",
        "# Input data files are available in the read-only \"../input/\" directory\n",
        "# For example, running this (by clicking run or pressing Shift+Enter) will list all files under the input directory\n",
        "\n",
        "import os\n",
        "for dirname, _, filenames in os.walk('/kaggle/input'):\n",
        "    for filename in filenames:\n",
        "        print(os.path.join(dirname, filename))\n",
        "\n",
        "# You can write up to 20GB to the current directory (/kaggle/working/) that gets preserved as output when you create a version using \"Save & Run All\"\n",
        "# You can also write temporary files to /kaggle/temp/, but they won't be saved outside of the current session"
      ],
      "metadata": {
        "_uuid": "8f2839f25d086af736a60e9eeb907d3b93b6e0e5",
        "_cell_guid": "b1076dfc-b9ad-4769-8c92-a6c4dae69d19",
        "trusted": true,
        "execution": {
          "iopub.status.busy": "2025-08-21T16:46:19.029366Z",
          "iopub.execute_input": "2025-08-21T16:46:19.029672Z",
          "iopub.status.idle": "2025-08-21T16:46:19.781678Z",
          "shell.execute_reply.started": "2025-08-21T16:46:19.02965Z",
          "shell.execute_reply": "2025-08-21T16:46:19.780207Z"
        },
        "id": "PDmo3YBtph3Y",
        "outputId": "f87a8428-5943-4a8f-e096-45f5be859e68",
        "colab": {
          "base_uri": "https://localhost:8080/"
        }
      },
      "outputs": [
        {
          "output_type": "stream",
          "name": "stdout",
          "text": [
            "/kaggle/input/credit-risk-dataset/LCDataDictionary.xlsx\n",
            "/kaggle/input/credit-risk-dataset/loan/loan.csv\n"
          ]
        }
      ],
      "execution_count": 2
    },
    {
      "cell_type": "code",
      "source": [
        "\n",
        "\n",
        "os.listdir(ranadeep_credit_risk_dataset_path)\n",
        "\n",
        "\n"
      ],
      "metadata": {
        "trusted": true,
        "execution": {
          "iopub.status.busy": "2025-08-21T16:46:19.783915Z",
          "iopub.execute_input": "2025-08-21T16:46:19.784382Z",
          "iopub.status.idle": "2025-08-21T16:46:45.125582Z",
          "shell.execute_reply.started": "2025-08-21T16:46:19.784352Z",
          "shell.execute_reply": "2025-08-21T16:46:45.124631Z"
        },
        "id": "NjFLRj3Sph3Y",
        "outputId": "422232d9-cdf6-4dc9-db30-4a11cffdf1cc",
        "colab": {
          "base_uri": "https://localhost:8080/"
        }
      },
      "outputs": [
        {
          "output_type": "execute_result",
          "data": {
            "text/plain": [
              "['loan', 'LCDataDictionary.xlsx']"
            ]
          },
          "metadata": {},
          "execution_count": 3
        }
      ],
      "execution_count": 3
    },
    {
      "cell_type": "code",
      "source": [
        "\n",
        "\n",
        "os.listdir(f\"{ranadeep_credit_risk_dataset_path}/loan\")\n"
      ],
      "metadata": {
        "trusted": true,
        "execution": {
          "iopub.status.busy": "2025-08-21T16:46:45.126519Z",
          "iopub.execute_input": "2025-08-21T16:46:45.12682Z",
          "iopub.status.idle": "2025-08-21T16:46:45.134754Z",
          "shell.execute_reply.started": "2025-08-21T16:46:45.126791Z",
          "shell.execute_reply": "2025-08-21T16:46:45.133707Z"
        },
        "id": "myq5ugtSph3Y",
        "outputId": "0bc361c2-a313-4860-a239-62a5bfb41f40",
        "colab": {
          "base_uri": "https://localhost:8080/"
        }
      },
      "outputs": [
        {
          "output_type": "execute_result",
          "data": {
            "text/plain": [
              "['loan.csv']"
            ]
          },
          "metadata": {},
          "execution_count": 4
        }
      ],
      "execution_count": 4
    },
    {
      "cell_type": "code",
      "source": [
        "df = pd.read_csv(f\"{ranadeep_credit_risk_dataset_path}/loan/loan.csv\",\n",
        "                 low_memory=False,\n",
        "                 dtype={\"desc\": \"string\", \"verification_status_joint\": \"string\"})\n",
        "print(df.head(2))\n"
      ],
      "metadata": {
        "id": "hyr2WpWKvseU",
        "outputId": "ecae06b2-adcd-48f3-8c06-cb3ffc0bfacb",
        "colab": {
          "base_uri": "https://localhost:8080/"
        }
      },
      "execution_count": 5,
      "outputs": [
        {
          "output_type": "stream",
          "name": "stdout",
          "text": [
            "        id  member_id  loan_amnt  funded_amnt  funded_amnt_inv        term  \\\n",
            "0  1077501    1296599     5000.0       5000.0           4975.0   36 months   \n",
            "1  1077430    1314167     2500.0       2500.0           2500.0   60 months   \n",
            "\n",
            "   int_rate  installment grade sub_grade  ... total_bal_il il_util  \\\n",
            "0     10.65       162.87     B        B2  ...          NaN     NaN   \n",
            "1     15.27        59.83     C        C4  ...          NaN     NaN   \n",
            "\n",
            "  open_rv_12m  open_rv_24m max_bal_bc all_util total_rev_hi_lim inq_fi  \\\n",
            "0         NaN          NaN        NaN      NaN              NaN    NaN   \n",
            "1         NaN          NaN        NaN      NaN              NaN    NaN   \n",
            "\n",
            "  total_cu_tl inq_last_12m  \n",
            "0         NaN          NaN  \n",
            "1         NaN          NaN  \n",
            "\n",
            "[2 rows x 74 columns]\n"
          ]
        }
      ]
    },
    {
      "cell_type": "code",
      "source": [
        "print(df.columns)"
      ],
      "metadata": {
        "colab": {
          "base_uri": "https://localhost:8080/"
        },
        "id": "QBT_odmi8BoS",
        "outputId": "56cf5286-2ca1-4915-a286-5a8c3eaf8e46"
      },
      "execution_count": 6,
      "outputs": [
        {
          "output_type": "stream",
          "name": "stdout",
          "text": [
            "Index(['id', 'member_id', 'loan_amnt', 'funded_amnt', 'funded_amnt_inv',\n",
            "       'term', 'int_rate', 'installment', 'grade', 'sub_grade', 'emp_title',\n",
            "       'emp_length', 'home_ownership', 'annual_inc', 'verification_status',\n",
            "       'issue_d', 'loan_status', 'pymnt_plan', 'url', 'desc', 'purpose',\n",
            "       'title', 'zip_code', 'addr_state', 'dti', 'delinq_2yrs',\n",
            "       'earliest_cr_line', 'inq_last_6mths', 'mths_since_last_delinq',\n",
            "       'mths_since_last_record', 'open_acc', 'pub_rec', 'revol_bal',\n",
            "       'revol_util', 'total_acc', 'initial_list_status', 'out_prncp',\n",
            "       'out_prncp_inv', 'total_pymnt', 'total_pymnt_inv', 'total_rec_prncp',\n",
            "       'total_rec_int', 'total_rec_late_fee', 'recoveries',\n",
            "       'collection_recovery_fee', 'last_pymnt_d', 'last_pymnt_amnt',\n",
            "       'next_pymnt_d', 'last_credit_pull_d', 'collections_12_mths_ex_med',\n",
            "       'mths_since_last_major_derog', 'policy_code', 'application_type',\n",
            "       'annual_inc_joint', 'dti_joint', 'verification_status_joint',\n",
            "       'acc_now_delinq', 'tot_coll_amt', 'tot_cur_bal', 'open_acc_6m',\n",
            "       'open_il_6m', 'open_il_12m', 'open_il_24m', 'mths_since_rcnt_il',\n",
            "       'total_bal_il', 'il_util', 'open_rv_12m', 'open_rv_24m', 'max_bal_bc',\n",
            "       'all_util', 'total_rev_hi_lim', 'inq_fi', 'total_cu_tl',\n",
            "       'inq_last_12m'],\n",
            "      dtype='object')\n"
          ]
        }
      ]
    },
    {
      "cell_type": "code",
      "source": [
        "print(df['desc'].head(3)) #description of the reason why they borrow the money"
      ],
      "metadata": {
        "colab": {
          "base_uri": "https://localhost:8080/"
        },
        "id": "S2VYTIYC7z1x",
        "outputId": "61ec6374-8c5e-491f-e558-7b9a2ad7dc7a"
      },
      "execution_count": 7,
      "outputs": [
        {
          "output_type": "stream",
          "name": "stdout",
          "text": [
            "0      Borrower added on 12/22/11 > I need to upgra...\n",
            "1      Borrower added on 12/22/11 > I plan to use t...\n",
            "2                                                 <NA>\n",
            "Name: desc, dtype: string\n"
          ]
        }
      ]
    },
    {
      "cell_type": "markdown",
      "source": [
        "These are the necessary features that borrowers are required to fill in — i.e., the complete columns with no missing values."
      ],
      "metadata": {
        "id": "xmfuCC7RPQpR"
      }
    },
    {
      "cell_type": "code",
      "source": [
        "import pandas as pd\n",
        "\n",
        "# Build/rebuild missing summary\n",
        "missing_summary = (\n",
        "    df.isna().sum()\n",
        "      .rename(\"missing_count\")\n",
        "      .to_frame()\n",
        "      .assign(missing_rate=lambda x: x[\"missing_count\"] / len(df))\n",
        ")\n",
        "\n",
        "# Columns with zero missing values\n",
        "complete_cols = missing_summary.query(\"missing_rate == 0\").index.tolist()\n",
        "\n",
        "print(f\"{len(complete_cols)} columns have no missing values:\")\n",
        "for c in complete_cols:\n",
        "    print(\"-\", c)\n",
        "\n",
        "\n"
      ],
      "metadata": {
        "id": "rSzAC8O9Axad",
        "outputId": "5e8c5be7-7a48-437a-fbdd-bdcee59d880f",
        "colab": {
          "base_uri": "https://localhost:8080/"
        }
      },
      "execution_count": 12,
      "outputs": [
        {
          "output_type": "stream",
          "name": "stdout",
          "text": [
            "34 columns have no missing values:\n",
            "- id\n",
            "- member_id\n",
            "- loan_amnt\n",
            "- funded_amnt\n",
            "- funded_amnt_inv\n",
            "- term\n",
            "- int_rate\n",
            "- installment\n",
            "- grade\n",
            "- sub_grade\n",
            "- home_ownership\n",
            "- verification_status\n",
            "- issue_d\n",
            "- loan_status\n",
            "- pymnt_plan\n",
            "- url\n",
            "- purpose\n",
            "- zip_code\n",
            "- addr_state\n",
            "- dti\n",
            "- revol_bal\n",
            "- initial_list_status\n",
            "- out_prncp\n",
            "- out_prncp_inv\n",
            "- total_pymnt\n",
            "- total_pymnt_inv\n",
            "- total_rec_prncp\n",
            "- total_rec_int\n",
            "- total_rec_late_fee\n",
            "- recoveries\n",
            "- collection_recovery_fee\n",
            "- last_pymnt_amnt\n",
            "- policy_code\n",
            "- application_type\n"
          ]
        }
      ]
    },
    {
      "cell_type": "markdown",
      "source": [
        "Missing rates are high in these features, so we should take this into consideration. Sometimes, whether a value is missing or not can itself be important information."
      ],
      "metadata": {
        "id": "O5N4z3GbOqR2"
      }
    },
    {
      "cell_type": "code",
      "source": [
        "import pandas as pd\n",
        "import matplotlib.pyplot as plt\n",
        "from matplotlib.ticker import PercentFormatter\n",
        "\n",
        "def plot_top_missing(df, top_k=30):\n",
        "    # Build missing_summary\n",
        "    missing_summary = (\n",
        "        df.isna()\n",
        "          .sum()\n",
        "          .rename(\"missing_count\")\n",
        "          .to_frame()\n",
        "          .assign(missing_rate=lambda x: x[\"missing_count\"] / len(df))\n",
        "          .sort_values(\"missing_rate\", ascending=False)\n",
        "    )\n",
        "\n",
        "    # Plot\n",
        "    top_missing = missing_summary.head(top_k)\n",
        "\n",
        "    plt.figure(figsize=(12, 6))\n",
        "    ax = top_missing[\"missing_rate\"].plot(kind=\"bar\")\n",
        "    ax.set_title(f\"Top {len(top_missing)} Features by Missing Rate\")\n",
        "    ax.set_ylabel(\"Missing rate\")\n",
        "    ax.yaxis.set_major_formatter(PercentFormatter(1))\n",
        "    plt.xticks(rotation=45, ha=\"right\")\n",
        "    plt.tight_layout()\n",
        "\n",
        "    # Optional labels\n",
        "    for p, v in zip(ax.patches, top_missing[\"missing_rate\"].values):\n",
        "        ax.annotate(f\"{v:.1%}\", (p.get_x() + p.get_width()/2, p.get_height()),\n",
        "                    xytext=(0, 3), textcoords=\"offset points\",\n",
        "                    ha=\"center\", va=\"bottom\")\n",
        "\n",
        "    plt.show()\n",
        "    return missing_summary  # handy if you want to reuse it\n",
        "\n",
        "# run it\n",
        "missing_summary = plot_top_missing(df, top_k=30)\n",
        "\n"
      ],
      "metadata": {
        "colab": {
          "base_uri": "https://localhost:8080/",
          "height": 607
        },
        "id": "xEsDEa9EON5c",
        "outputId": "b5082394-545e-4a7c-adff-65eb93d55ec3"
      },
      "execution_count": 10,
      "outputs": [
        {
          "output_type": "display_data",
          "data": {
            "text/plain": [
              "<Figure size 1200x600 with 1 Axes>"
            ],
            "image/png": "[encoded data removed]"
          },
          "metadata": {}
        }
      ]
    },
    {
      "cell_type": "markdown",
      "source": [
        "Try to understand our target values: among values since BAD_LABELS = {'Charged Off','Default','Late (31-120 days)'} are significant clues for bed i will set it up like this."
      ],
      "metadata": {
        "id": "WJ5wInn6Pp0g"
      }
    },
    {
      "cell_type": "code",
      "source": [
        "df['loan_status'].unique()"
      ],
      "metadata": {
        "colab": {
          "base_uri": "https://localhost:8080/"
        },
        "id": "1_wYdMbyb3aF",
        "outputId": "3b77fec6-5826-4da0-c486-d309359f88a9"
      },
      "execution_count": 13,
      "outputs": [
        {
          "output_type": "execute_result",
          "data": {
            "text/plain": [
              "array(['Fully Paid', 'Charged Off', 'Current', 'Default',\n",
              "       'Late (31-120 days)', 'In Grace Period', 'Late (16-30 days)',\n",
              "       'Does not meet the credit policy. Status:Fully Paid',\n",
              "       'Does not meet the credit policy. Status:Charged Off', 'Issued'],\n",
              "      dtype=object)"
            ]
          },
          "metadata": {},
          "execution_count": 13
        }
      ]
    },
    {
      "cell_type": "code",
      "source": [
        "df['loan_status'].value_counts()"
      ],
      "metadata": {
        "colab": {
          "base_uri": "https://localhost:8080/",
          "height": 429
        },
        "id": "z2g1Q9XoG0gk",
        "outputId": "b981fdfc-d5ae-44fa-fc12-bb82632d6958"
      },
      "execution_count": 14,
      "outputs": [
        {
          "output_type": "execute_result",
          "data": {
            "text/plain": [
              "loan_status\n",
              "Current                                                601779\n",
              "Fully Paid                                             207723\n",
              "Charged Off                                             45248\n",
              "Late (31-120 days)                                      11591\n",
              "Issued                                                   8460\n",
              "In Grace Period                                          6253\n",
              "Late (16-30 days)                                        2357\n",
              "Does not meet the credit policy. Status:Fully Paid       1988\n",
              "Default                                                  1219\n",
              "Does not meet the credit policy. Status:Charged Off       761\n",
              "Name: count, dtype: int64"
            ],
            "text/html": [
              "<div>\n",
              "<style scoped>\n",
              "    .dataframe tbody tr th:only-of-type {\n",
              "        vertical-align: middle;\n",
              "    }\n",
              "\n",
              "    .dataframe tbody tr th {\n",
              "        vertical-align: top;\n",
              "    }\n",
              "\n",
              "    .dataframe thead th {\n",
              "        text-align: right;\n",
              "    }\n",
              "</style>\n",
              "<table border=\"1\" class=\"dataframe\">\n",
              "  <thead>\n",
              "    <tr style=\"text-align: right;\">\n",
              "      <th></th>\n",
              "      <th>count</th>\n",
              "    </tr>\n",
              "    <tr>\n",
              "      <th>loan_status</th>\n",
              "      <th></th>\n",
              "    </tr>\n",
              "  </thead>\n",
              "  <tbody>\n",
              "    <tr>\n",
              "      <th>Current</th>\n",
              "      <td>601779</td>\n",
              "    </tr>\n",
              "    <tr>\n",
              "      <th>Fully Paid</th>\n",
              "      <td>207723</td>\n",
              "    </tr>\n",
              "    <tr>\n",
              "      <th>Charged Off</th>\n",
              "      <td>45248</td>\n",
              "    </tr>\n",
              "    <tr>\n",
              "      <th>Late (31-120 days)</th>\n",
              "      <td>11591</td>\n",
              "    </tr>\n",
              "    <tr>\n",
              "      <th>Issued</th>\n",
              "      <td>8460</td>\n",
              "    </tr>\n",
              "    <tr>\n",
              "      <th>In Grace Period</th>\n",
              "      <td>6253</td>\n",
              "    </tr>\n",
              "    <tr>\n",
              "      <th>Late (16-30 days)</th>\n",
              "      <td>2357</td>\n",
              "    </tr>\n",
              "    <tr>\n",
              "      <th>Does not meet the credit policy. Status:Fully Paid</th>\n",
              "      <td>1988</td>\n",
              "    </tr>\n",
              "    <tr>\n",
              "      <th>Default</th>\n",
              "      <td>1219</td>\n",
              "    </tr>\n",
              "    <tr>\n",
              "      <th>Does not meet the credit policy. Status:Charged Off</th>\n",
              "      <td>761</td>\n",
              "    </tr>\n",
              "  </tbody>\n",
              "</table>\n",
              "</div><br><label><b>dtype:</b> int64</label>"
            ]
          },
          "metadata": {},
          "execution_count": 14
        }
      ]
    },
    {
      "cell_type": "code",
      "source": [
        "df['open_acc_6m'].value_counts()"
      ],
      "metadata": {
        "id": "dEt9on-9gmZk"
      },
      "execution_count": null,
      "outputs": []
    },
    {
      "cell_type": "code",
      "source": [
        "df['dti'].value_counts()"
      ],
      "metadata": {
        "id": "NU_X66hihkot"
      },
      "execution_count": null,
      "outputs": []
    },
    {
      "cell_type": "code",
      "source": [
        "df['dti'].isna().sum() #in other words, no missing value on dti=monthly_debt/monthly_income"
      ],
      "metadata": {
        "id": "hmc__qcGh0v0"
      },
      "execution_count": null,
      "outputs": []
    },
    {
      "cell_type": "markdown",
      "source": [
        "# Binning Strategy: Numeric vs. Non-Numeric Features\n",
        "\n",
        "We bin features differently depending on their data type:\n",
        "\n",
        "- **Numeric features** (e.g., `int_rate`, `dti`, `tot_cur_bal`):  \n",
        "  Use quantile or equal-width bins to group continuous values, plus a dedicated **Missing** bin.  \n",
        "  This stabilizes **WOE/IV** estimates and reduces noise/outlier sensitivity.\n",
        "\n",
        "- **Non-numeric (categorical) features** (e.g., `emp_title`, `purpose`):  \n",
        "  Group categories by frequency, cap rare categories into **\"Other\"**, and keep a **Missing** bin.  \n",
        "  This prevents high cardinality features from overfitting and keeps WOE/IV well-behaved.\n",
        "\n",
        "**Why bin at all?**  \n",
        "- Produces smoother, more monotone relationships with the target for credit-risk style models.  \n",
        "- Improves interpretability (scorecards) and robustness to outliers.  \n",
        "- Reduces variance in small samples within a bin/category.\n"
      ],
      "metadata": {
        "id": "ckahJluI2XUo"
      }
    },
    {
      "cell_type": "code",
      "source": [
        "import pandas as pd\n",
        "import numpy as np\n",
        "\n",
        "# ---------- 1) Define target (adjust to your labels) ----------\n",
        "# Example mapping for LendingClub-style data:\n",
        "BAD_LABELS = {'Charged Off','Default','Late (31-120 days)'}\n",
        "GOOD_LABELS = {'Fully Paid'}\n",
        "# Everything else will be ignored or treated as \"other\" (you can customize)\n",
        "\n",
        "def map_loan_status(x):\n",
        "    if x in BAD_LABELS: return 1\n",
        "    if x in GOOD_LABELS: return 0\n",
        "    return np.nan  # drop unknown statuses for IV calc\n",
        "\n",
        "df = df.copy()\n",
        "df['target_bad'] = df['loan_status'].map(map_loan_status)\n",
        "df = df.dropna(subset=['target_bad']).reset_index(drop=True)\n",
        "df['target_bad'] = df['target_bad'].astype(int)\n",
        "\n",
        "# ---------- 2) Columns to ignore (IDs, clear leakage/post-origination) ----------\n",
        "IGNORE = {\n",
        "    'id','member_id','loan_status','target_bad',\n",
        "    'out_prncp','out_prncp_inv','total_pymnt','total_pymnt_inv',\n",
        "    'total_rec_prncp','total_rec_int','total_rec_late_fee',\n",
        "    'recoveries','collection_recovery_fee','last_pymnt_d','last_pymnt_amnt',\n",
        "    'next_pymnt_d','last_credit_pull_d','pymnt_plan','url','desc','title','zip_code','sub_grade'\n",
        "}\n",
        "\n",
        "# --- Adjust if needed ---\n",
        "TARGET = 'target_bad'\n",
        "IGNORE = {\n",
        "    'id','member_id','loan_status','target_bad',\n",
        "    'out_prncp','out_prncp_inv','total_pymnt','total_pymnt_inv',\n",
        "    'total_rec_prncp','total_rec_int','total_rec_late_fee',\n",
        "    'recoveries','collection_recovery_fee','last_pymnt_d','last_pymnt_amnt',\n",
        "    'next_pymnt_d','last_credit_pull_d','pymnt_plan','url','desc','title','zip_code','sub_grade'\n",
        "}\n",
        "\n",
        "def decide_binner(s: pd.Series):\n",
        "    \"\"\"Return ('NUMERIC'|'CATEGORICAL', reason_string).\"\"\"\n",
        "    if pd.api.types.is_numeric_dtype(s):\n",
        "        return 'NUMERIC', f\"numeric dtype: {s.dtype}\"\n",
        "    # object/string but maybe numeric-looking (e.g., '12.3', '45%')\n",
        "    # try a gentle coercion check\n",
        "    s_str = s.astype('string')\n",
        "    coerced = pd.to_numeric(s_str.str.replace('%','', regex=False), errors='coerce')\n",
        "    frac_numeric = coerced.notna().mean() if len(s_str) else 0.0\n",
        "    if frac_numeric > 0.95:\n",
        "        return 'CATEGORICAL*', f\"object dtype but ~{frac_numeric:.0%} numeric-looking; consider cleaning\"\n",
        "    return 'CATEGORICAL', f\"non-numeric dtype: {s.dtype}\"\n",
        "\n",
        "rows = []\n",
        "for col in df.columns:\n",
        "    if col in IGNORE:\n",
        "        continue\n",
        "    s = df[col]\n",
        "    kind, reason = decide_binner(s)\n",
        "    nmiss = s.isna().sum()\n",
        "    nunique = s.nunique(dropna=True)\n",
        "    rows.append({\n",
        "        'feature': col,\n",
        "        'dtype': str(s.dtype),\n",
        "        'chooser': kind,                # what will be used\n",
        "        'n_unique_nonmiss': int(nunique),\n",
        "        'n_missing': int(nmiss),\n",
        "        'note': reason\n",
        "    })\n",
        "\n",
        "use_table = pd.DataFrame(rows).sort_values(['chooser','feature']).reset_index(drop=True)\n",
        "\n",
        "# Split views\n",
        "used_numeric = use_table[use_table['chooser'] == 'NUMERIC'].copy()\n",
        "used_categ  = use_table[use_table['chooser'].isin(['CATEGORICAL','CATEGORICAL*'])].copy()\n",
        "\n",
        "print(\"=== NUMERIC → _bin_numeric_with_missing ===\")\n",
        "display(used_numeric[['feature','dtype','n_unique_nonmiss','n_missing','note']])\n",
        "\n",
        "print(\"\\n=== CATEGORICAL → _bin_categorical_with_missing ===\")\n",
        "display(used_categ[['feature','dtype','n_unique_nonmiss','n_missing','note']])\n",
        "\n",
        "# Optional: save the report\n",
        "use_table.to_csv(\"binning_routing_report.csv\", index=False)\n"
      ],
      "metadata": {
        "id": "QC52pCe56Pwj"
      },
      "execution_count": null,
      "outputs": []
    },
    {
      "cell_type": "code",
      "source": [
        "\n",
        "#\n",
        "\n",
        "# ---------- 3) IV / WOE utilities ----------\n",
        "EPS = 1e-6  # smoothing to avoid div-by-zero / log(0)\n",
        "\n",
        "def _bin_numeric_with_missing(s: pd.Series, bins):\n",
        "    \"\"\"\n",
        "    Quantile-bin numeric features on their REAL values (not ranks),\n",
        "    keep NaNs as 'MISSING', and return a categorical Series of the same length.\n",
        "    Guarantees each row belongs to exactly one bin or 'MISSING'.\n",
        "    \"\"\"\n",
        "    s = s.copy()\n",
        "    mask = s.notna() #not missing values\n",
        "    n_nonmiss = int(mask.sum())\n",
        "\n",
        "    # If everything is missing → return all 'MISSING'\n",
        "    if n_nonmiss == 0:\n",
        "        return pd.Series(['MISSING'] * len(s), index=s.index, dtype=\"object\")\n",
        "\n",
        "    # How many distinct non-missing values do we have?\n",
        "    uniq = s[mask].nunique(dropna=True)\n",
        "    nbins = max(1, min(int(bins), int(uniq)))  # can't have more bins than number of unique values\n",
        "\n",
        "    # Try quantile binning on REAL values\n",
        "    binned = None\n",
        "    try:\n",
        "        # duplicates='drop' lets qcut reduce the bin count if quantile edges coincide\n",
        "        binned = pd.qcut(s[mask], q=nbins, duplicates='drop')\n",
        "    except Exception:\n",
        "        # Fallback 1: try fewer bins\n",
        "        tried = False\n",
        "        for q in range(min(nbins, 10), 1, -1):\n",
        "            try:\n",
        "                binned = pd.qcut(s[mask], q=q, duplicates='drop')\n",
        "                tried = True\n",
        "                break\n",
        "            except Exception:\n",
        "                continue\n",
        "        # Fallback 2: equal-width bins if even quantiles failed\n",
        "        if not tried or binned is None:\n",
        "            try:\n",
        "                binned = pd.cut(s[mask], bins=min(nbins, 10))\n",
        "            except Exception:\n",
        "                # Last resort: put all non-missing into one bucket\n",
        "                binned = pd.Series(['BIN_ALL'] * n_nonmiss, index=s[mask].index, dtype=\"object\")\n",
        "\n",
        "    # Build output: non-missing get their bin label; missing → 'MISSING'\n",
        "    out = pd.Series(index=s.index, dtype=\"object\")\n",
        "    out[mask] = binned.astype(str)\n",
        "    out[~mask] = 'MISSING'\n",
        "\n",
        "    return out\n",
        "\n",
        "\n",
        "\n",
        "\n",
        "def _bin_categorical_with_missing(s: pd.Series, max_levels=50):\n",
        "    \"\"\"Use categories directly; collapse rare levels; keep NaN as 'MISSING'.\"\"\"\n",
        "    s = s.astype('string')\n",
        "    s = s.fillna('MISSING')\n",
        "    # collapse rare levels if too many categories\n",
        "    vc = s.value_counts(dropna=False)\n",
        "       #nan values를 드랍하지 않음. 즉 고려함.\n",
        "    if len(vc) > max_levels:\n",
        "        keep = set(vc.nlargest(max_levels - 1).index)  # leave 1 slot for 'OTHER'\n",
        "        s = s.where(s.isin(keep), other='OTHER')\n",
        "    return s\n",
        "    #빈도수가 많은것들 50개만 킵하고 나머지는 다 'Other'로.\n",
        "\n",
        "def woe_iv_for_binned(bins: pd.Series, y: pd.Series) -> pd.DataFrame:\n",
        "    \"\"\"Compute WOE/IV per bin + total IV.\"\"\"\n",
        "    g = (\n",
        "        pd.DataFrame({'bin': bins, 'y': y})\n",
        "        .groupby('bin', dropna=False)['y']\n",
        "        .agg(event='sum', total='count')\n",
        "        .reset_index()\n",
        "    ) #y is a target values. y=1: event happens: Bad event, in other words, as defaulted(get loan but didnt pay it)\n",
        "    g['non_event'] = g['total'] - g['event']\n",
        "    # distributions\n",
        "    total_event = g['event'].sum()\n",
        "    total_nonevent = g['non_event'].sum()\n",
        "    g['dist_event'] = (g['event'] + EPS) / (total_event + 2*EPS)\n",
        "    g['dist_nonevent'] = (g['non_event'] + EPS) / (total_nonevent + 2*EPS)\n",
        "    #EPS;epsilon^^ since we want 'no division by zero', EPS is already defined above.\n",
        "    # woe & iv\n",
        "    g['woe'] = np.log(g['dist_event'] / g['dist_nonevent'])\n",
        "    #Weight of Evidence\n",
        "    g['iv']  = (g['dist_event'] - g['dist_nonevent']) * g['woe']\n",
        "    #information Value, which is always positive by definition. >=0.3 Strong\n",
        "    g = g.sort_values('woe').reset_index(drop=True)\n",
        "    g.attrs['iv_total'] = float(g['iv'].sum())\n",
        "    return g\n",
        "\n",
        "def calc_iv(df: pd.DataFrame, feature: str, target: str, bins=10, max_levels=50):\n",
        "    s = df[feature]\n",
        "    if pd.api.types.is_numeric_dtype(s):\n",
        "        b = _bin_numeric_with_missing(s, bins=bins)\n",
        "    else:\n",
        "        b = _bin_categorical_with_missing(s, max_levels=max_levels)\n",
        "    return woe_iv_for_binned(b, df[target])\n",
        "\n",
        "# ---------- 4) Run IV over all features ----------\n",
        "iv_results = {}\n",
        "woe_tables = {}   # keep detailed tables if you want to inspect later\n",
        "\n",
        "for col in df.columns:\n",
        "    if col in IGNORE:\n",
        "        continue\n",
        "    try:\n",
        "        wt = calc_iv(df, col, 'target_bad', bins=10, max_levels=50)\n",
        "        iv_total = wt.attrs['iv_total']\n",
        "        iv_results[col] = iv_total\n",
        "        woe_tables[col] = wt\n",
        "    except Exception as e:\n",
        "        # some columns (e.g., all-NaN) will fail gracefully\n",
        "        pass\n",
        "\n",
        "iv_sorted = pd.Series(iv_results).sort_values(ascending=False)\n",
        "iv_sorted.head(40)\n"
      ],
      "metadata": {
        "id": "eXP8l-pYEUu5"
      },
      "execution_count": null,
      "outputs": []
    },
    {
      "cell_type": "code",
      "source": [
        "df['purpose'].value_counts()\n"
      ],
      "metadata": {
        "id": "cxB0Krah76oI"
      },
      "execution_count": null,
      "outputs": []
    },
    {
      "cell_type": "code",
      "source": [
        "import pandas as pd\n",
        "\n",
        "# 1) Keep rows with target present\n",
        "df2 = df[df['target_bad'].notna()].copy()\n",
        "\n",
        "# 2) Bin 'purpose' as categorical (cap to Top-49 + OTHER + MISSING = ~50 levels)\n",
        "b = _bin_categorical_with_missing(df2['purpose'], max_levels=50)\n",
        "\n",
        "# 3) Compute WOE/IV table\n",
        "tbl = woe_iv_for_binned(b, df2['target_bad']).copy()\n",
        "tbl['event_rate'] = tbl['event'] / tbl['total']\n",
        "\n",
        "# 4) Nice ordering for inspection (most data first)\n",
        "tbl_sorted = tbl.sort_values(['total','event_rate'], ascending=[False, False]).reset_index(drop=True)\n",
        "\n",
        "# 5) Show key columns\n",
        "print(tbl_sorted[['bin','event','non_event','total','event_rate']])\n",
        "\n",
        "# 6) IV total + sanity check\n",
        "iv_total = float(tbl_sorted['iv'].sum())\n",
        "print(\"\\nIV_total (purpose):\", iv_total)\n",
        "print(\"Sum totals:\", int(tbl_sorted['total'].sum()), \" vs rows:\", len(df2))\n",
        "\n",
        "\n"
      ],
      "metadata": {
        "id": "4V4SrxjJ7gNa"
      },
      "execution_count": null,
      "outputs": []
    },
    {
      "cell_type": "code",
      "source": [
        "#tot_coll_amt=total collection ammount(#이렇게 자르는게 맞나 빈 구간을)\n",
        "\n",
        "#int_rate iv and woe\n",
        "df2 = df[df['target_bad'].notna()].copy()      # you can also reset_index(drop=True)\n",
        "\n",
        "b = _bin_numeric_with_missing(df2['tot_coll_amt'], bins=10)\n",
        "tbl = woe_iv_for_binned(b, df2['target_bad'])\n",
        "tbl['event_rate'] = tbl['event'] / tbl['total']\n",
        "\n",
        "print(tbl[['bin','event','non_event','total','event_rate']])\n",
        "print(\"Sum totals:\", tbl['total'].sum(), \" vs rows:\", len(df2))"
      ],
      "metadata": {
        "id": "F0tMaTmqV_FP"
      },
      "execution_count": null,
      "outputs": []
    },
    {
      "cell_type": "code",
      "source": [
        "#delinq_2yrs=delinquencies(more than 30 days) in 2 years\n",
        "df2 = df[df['target_bad'].notna()].copy()      # you can also reset_index(drop=True)\n",
        "\n",
        "b = _bin_numeric_with_missing(df2['delinq_2yrs'], bins=10)\n",
        "tbl = woe_iv_for_binned(b, df2['target_bad'])\n",
        "tbl['event_rate'] = tbl['event'] / tbl['total']\n",
        "\n",
        "print(tbl[['bin','event','non_event','total','event_rate']])\n",
        "print(\"Sum totals:\", tbl['total'].sum(), \" vs rows:\", len(df2))"
      ],
      "metadata": {
        "id": "l_U3edWQdIlB"
      },
      "execution_count": null,
      "outputs": []
    },
    {
      "cell_type": "code",
      "source": [
        "!pip install xlsxwriter\n"
      ],
      "metadata": {
        "id": "M1NpcM_4yGK9"
      },
      "execution_count": null,
      "outputs": []
    },
    {
      "cell_type": "code",
      "source": [
        "import pandas as pd\n",
        "import numpy as np\n",
        "\n",
        "# Keep only rows with target present\n",
        "df2 = df[df['target_bad'].notna()].copy()\n",
        "\n",
        "features = [\n",
        "    'int_rate','dti','tot_cur_bal','revol_util','total_rev_hi_lim','annual_inc',\n",
        "    'tot_coll_amt','funded_amnt','open_il_12m','inq_fi','open_acc_6m','total_cu_tl',\n",
        "    'open_rv_12m','open_il_24m','open_il_6m','inq_last_12m','total_bal_il','max_bal_bc',\n",
        "    'all_util','inq_last_6mths','mths_since_rcnt_il','il_util',\n",
        "    'mths_since_last_major_derog','mths_since_last_delinq','total_acc','delinq_2yrs',\n",
        "    'open_acc','mths_since_last_record','pub_rec','collections_12_mths_ex_med',\n",
        "    'policy_code','acc_now_delinq'\n",
        "]\n",
        "\n",
        "all_rows = []\n",
        "for feat in features:\n",
        "    if feat not in df2.columns:\n",
        "        print(f\"[skip] {feat}: not in df\")\n",
        "        continue\n",
        "    s = df2[feat]\n",
        "    try:\n",
        "        # binning\n",
        "        if pd.api.types.is_numeric_dtype(s):\n",
        "            b = _bin_numeric_with_missing(s, bins=10) #I made bins=10\n",
        "        else:\n",
        "            b = _bin_categorical_with_missing(s, max_levels=50)\n",
        "\n",
        "        tbl = woe_iv_for_binned(b, df2['target_bad'])\n",
        "        tbl['event_rate'] = tbl['event'] / tbl['total']\n",
        "\n",
        "        # add feature name\n",
        "        tbl.insert(0, 'feature', feat)\n",
        "\n",
        "        # keep main columns\n",
        "        out = tbl[['feature','bin','event','non_event','total','event_rate']].copy()\n",
        "\n",
        "        # append to big list\n",
        "        all_rows.append(out)\n",
        "\n",
        "        # add an empty row (NaNs) for spacing\n",
        "        all_rows.append(pd.DataFrame(\n",
        "            [[feat, None, None, None, None, None]],\n",
        "            columns=['feature','bin','event','non_event','total','event_rate']\n",
        "        ))\n",
        "\n",
        "    except Exception as e:\n",
        "        print(f\"[error] {feat}: {e}\")\n",
        "\n",
        "# concatenate\n",
        "ALL = pd.concat(all_rows, ignore_index=True)\n",
        "\n",
        "# save Excel (one sheet)\n",
        "excel_path = \"woe_iv_all_in_one_spaced.xlsx\"\n",
        "with pd.ExcelWriter(excel_path, engine=\"openpyxl\") as writer:\n",
        "    ALL.to_excel(writer, sheet_name=\"ALL\", index=False)\n",
        "\n",
        "# 👉 save CSV as well\n",
        "csv_path = \"woe_iv_all_in_one_spaced.csv\"\n",
        "ALL.to_csv(csv_path, index=False)\n",
        "\n",
        "print(\"Saved ->\", excel_path)\n",
        "print(\"Saved ->\", csv_path)\n",
        "\n"
      ],
      "metadata": {
        "id": "PSYsWb2OANMb"
      },
      "execution_count": null,
      "outputs": []
    },
    {
      "cell_type": "code",
      "source": [
        "!ls -lh\n"
      ],
      "metadata": {
        "id": "7PGs68VYyxCI"
      },
      "execution_count": null,
      "outputs": []
    },
    {
      "cell_type": "code",
      "source": [
        "#Save it into google drive not to loose any datas\n",
        "from google.colab import drive\n",
        "drive.mount('/content/drive')"
      ],
      "metadata": {
        "id": "Har7kOcR1C4Z"
      },
      "execution_count": null,
      "outputs": []
    },
    {
      "cell_type": "code",
      "source": [
        "# --- inputs you already have ---\n",
        "# df: your dataframe\n",
        "# iv_sorted: pd.Series mapping feature -> IV (descending)\n",
        "# IGNORE: set of columns to ignore\n",
        "TARGET = 'target_bad'  # adjust if you used a different name\n",
        "THRESH = 0.8         # correlation threshold\n",
        "\n",
        "# 1) choose candidate numeric features\n",
        "candidates = [\n",
        "    c for c in df.columns\n",
        "    if c not in IGNORE and c != TARGET and pd.api.types.is_numeric_dtype(df[c])\n",
        "]\n",
        "\n",
        "# 2) correlation matrix (absolute), only over candidates\n",
        "corr = df[candidates].corr(numeric_only=True).abs()\n",
        "\n",
        "# 3) ensure we have IV values for all candidates (default 0.0 if missing)\n",
        "iv_map = iv_sorted.to_dict()\n",
        "for c in candidates:\n",
        "    if c not in iv_map:\n",
        "        iv_map[c] = 0.0\n",
        "\n",
        "# 4) sort candidates by IV descending (higher IV first → kept preferentially)\n",
        "ordered = sorted(candidates, key=lambda c: iv_map.get(c, 0.0), reverse=True)\n",
        "\n",
        "# 5) greedy selection: keep feature if it's not >THRESH correlated with any kept feature\n",
        "kept = []\n",
        "dropped = {}  # feature -> reason (conflicts with which kept feature)\n",
        "\n",
        "for col in ordered:\n",
        "    # skip columns that are all-NaN in corr\n",
        "    if col not in corr.columns:\n",
        "        continue\n",
        "    # check correlation vs already kept\n",
        "    too_correlated_with = None\n",
        "    for k in kept:\n",
        "        # if either column is missing from corr (rare), skip safely\n",
        "        if col in corr.index and k in corr.columns:\n",
        "            if corr.loc[col, k] > THRESH:\n",
        "                too_correlated_with = k\n",
        "                break\n",
        "    if too_correlated_with is None:\n",
        "        kept.append(col)\n",
        "    else:\n",
        "        dropped[col] = f\"corr({col}, {too_correlated_with}) = {corr.loc[col, too_correlated_with]:.2f} > {THRESH}\"\n",
        "\n",
        "print(f\"Kept ({len(kept)}):\", kept)\n",
        "print(f\"Dropped ({len(dropped)}):\")\n",
        "for c, reason in dropped.items():\n",
        "    print(f\"  - {c}: {reason}\")\n",
        "\n",
        "# Optionally build a reduced dataframe\n",
        "df_reduced = df.drop(columns=list(dropped.keys()), errors='ignore')\n",
        "print(\"Original shape:\", df.shape, \"→ Reduced shape:\", df_reduced.shape)\n"
      ],
      "metadata": {
        "id": "BvpBk8fYo1nT"
      },
      "execution_count": null,
      "outputs": []
    },
    {
      "cell_type": "code",
      "source": [
        "# ===== AFTER your pruning block =====\n",
        "# Assumes: df, kept, TARGET, THRESH, and your IV/WOE helpers (calc_iv, etc.) already exist.\n",
        "\n",
        "\n",
        "import matplotlib.pyplot as plt\n",
        "import seaborn as sns\n",
        "\n",
        "# 1) Recompute IV for kept features\n",
        "kept_iv = {}\n",
        "kept_woe_tables = {}\n",
        "\n",
        "for col in kept:\n",
        "    if col not in df.columns:\n",
        "        continue\n",
        "    try:\n",
        "        wt = calc_iv(df, col, TARGET, bins=10, max_levels=50)\n",
        "        kept_iv[col] = wt.attrs.get('iv_total', float(wt['iv'].sum()))\n",
        "        kept_woe_tables[col] = wt\n",
        "    except Exception as e:\n",
        "        # Skip columns that fail (e.g., all-NaN), or print if you want\n",
        "        # print(f\"IV failed for {col}: {e}\")\n",
        "        pass\n",
        "\n",
        "iv_kept_df = (\n",
        "    pd.Series(kept_iv, name='IV')\n",
        "    .to_frame()\n",
        "    .sort_values('IV', ascending=False)\n",
        ")\n",
        "print(\"=== Kept features with IV (sorted) ===\")\n",
        "print(iv_kept_df)\n",
        "\n",
        "# 2) Save IV table\n",
        "iv_kept_df.to_csv('kept_features_iv.csv', index=True)\n",
        "print(\"Saved IV table to kept_features_iv.csv\")\n",
        "\n",
        "# 3) Correlation heatmap among kept features, showing only > THRESH\n",
        "kept_numeric = [c for c in kept if pd.api.types.is_numeric_dtype(df[c])]\n",
        "corr_kept = df[kept_numeric].corr(numeric_only=True).abs()\n",
        "\n",
        "# mask correlations <= THRESH to declutter the plot\n",
        "corr_masked = corr_kept.mask(corr_kept <= THRESH)\n",
        "\n",
        "plt.figure(figsize=(18, 14))\n",
        "sns.heatmap(\n",
        "    corr_masked,\n",
        "    cmap=\"coolwarm\",\n",
        "    center=0,\n",
        "    annot=True,\n",
        "    fmt=\".2f\",\n",
        "    linewidths=0.5,\n",
        "    cbar_kws={\"shrink\": .8}\n",
        ")\n",
        "plt.title(f\"Correlation Heatmap Among Kept Features (only > {THRESH} shown)\")\n",
        "plt.show()\n",
        "\n",
        "# 4) Optional: Top-N bar chart of kept features by IV\n",
        "topN = 20\n",
        "ax = iv_kept_df.head(topN).plot(kind='barh', figsize=(8, 10))\n",
        "ax.invert_yaxis()\n",
        "ax.set_title(f'Top {topN} Kept Features by IV')\n",
        "ax.set_xlabel('Information Value')\n",
        "ax.set_ylabel('Feature')\n",
        "plt.show()\n",
        "\n",
        "# 5) (Optional) Peek a specific WOE table, e.g. 'annual_inc'\n",
        "# kept_woe_tables['annual_inc']\n"
      ],
      "metadata": {
        "id": "_RYpXGb9qJoV"
      },
      "execution_count": null,
      "outputs": []
    },
    {
      "cell_type": "code",
      "source": [
        "print(kept)"
      ],
      "metadata": {
        "id": "TFM2mx346kRO"
      },
      "execution_count": null,
      "outputs": []
    },
    {
      "cell_type": "code",
      "source": [
        "pip install xgboost scikit-learn\n"
      ],
      "metadata": {
        "id": "ALOzjo56rqVw"
      },
      "execution_count": null,
      "outputs": []
    },
    {
      "cell_type": "code",
      "source": [
        "from sklearn.model_selection import train_test_split\n",
        "\n",
        "# Features you kept\n",
        "features = kept   # the list you built with correlation pruning\n",
        "TARGET = 'target_bad'\n",
        "\n",
        "X = df[features]\n",
        "y = df[TARGET]\n",
        "\n",
        "# Split into train and test sets (80/20 split)\n",
        "\n"
      ],
      "metadata": {
        "id": "6R9BfnFQrvxF"
      },
      "execution_count": null,
      "outputs": []
    },
    {
      "cell_type": "code",
      "source": [
        "print(X.shape)"
      ],
      "metadata": {
        "id": "PsSv8q2S902c"
      },
      "execution_count": null,
      "outputs": []
    },
    {
      "cell_type": "code",
      "source": [
        "from sklearn.metrics import roc_auc_score\n",
        "from sklearn.model_selection import train_test_split\n",
        "import xgboost as xgb\n",
        "\n",
        "X_train, X_valid, y_train, y_valid = train_test_split(\n",
        "    X, y, test_size=0.2, stratify=y, random_state=42\n",
        ")\n",
        "\n",
        "model = xgb.XGBClassifier(\n",
        "    n_estimators=300,\n",
        "    learning_rate=0.1,\n",
        "    max_depth=3,\n",
        "    subsample=0.8,\n",
        "    colsample_bytree=0.8,\n",
        "    scale_pos_weight=(y_train==0).sum()/(y_train==1).sum(),\n",
        "    eval_metric=\"auc\",\n",
        "    random_state=42\n",
        ")\n",
        "model.fit(X_train, y_train)\n",
        "\n",
        "pred = model.predict_proba(X_valid)[:,1]\n",
        "print(\"Validation AUC:\", roc_auc_score(y_valid, pred))\n"
      ],
      "metadata": {
        "id": "RMC-nmybLUhf"
      },
      "execution_count": null,
      "outputs": []
    },
    {
      "cell_type": "code",
      "source": [
        "# 1) Install & imports (once per session)\n",
        "!pip -q install shap\n",
        "import numpy as np\n",
        "import shap\n",
        "import matplotlib.pyplot as plt\n"
      ],
      "metadata": {
        "id": "35_EMc7O-uAE"
      },
      "execution_count": null,
      "outputs": []
    },
    {
      "cell_type": "code",
      "source": [
        "# 2) Compute SHAP values for the validation set\n",
        "explainer = shap.TreeExplainer(model)\n",
        "shap_values = explainer(X_valid)   # SHAP in log-odds; Explanation object\n"
      ],
      "metadata": {
        "id": "299EMHaL-xMx"
      },
      "execution_count": null,
      "outputs": []
    },
    {
      "cell_type": "code",
      "source": [
        "# 3) Waterfall plot for the FIRST row (row 0)\n",
        "row_idx = 3\n",
        "shap.plots.waterfall(shap_values[row_idx], max_display=15)\n",
        "print('default or not:',y[3])\n"
      ],
      "metadata": {
        "id": "jWIzFTlT-4_O"
      },
      "execution_count": null,
      "outputs": []
    },
    {
      "cell_type": "code",
      "source": [
        "import numpy as np\n",
        "\n",
        "# counts\n",
        "n_good = (y == 0).sum()   # non-defaults\n",
        "n_bad  = (y == 1).sum()   # defaults\n",
        "\n",
        "# baseline probability of default\n",
        "p_default = n_bad / (n_good + n_bad)\n",
        "p_good = n_good / (n_good + n_bad)\n",
        "\n",
        "# baseline log-odds (what XGBoost uses as base_value)\n",
        "baseline_log_odds = np.log(p_default / p_good)\n",
        "\n",
        "print(f\"Total samples: {n_good + n_bad}\")\n",
        "print(f\"Non-default (y=0): {n_good}\")\n",
        "print(f\"Default     (y=1): {n_bad}\")\n",
        "print(f\"Baseline probability of default: {p_default:.4f}\")\n",
        "print(f\"Baseline log-odds: {baseline_log_odds:.4f}\")\n"
      ],
      "metadata": {
        "id": "6ryk-oHBSMKY"
      },
      "execution_count": null,
      "outputs": []
    },
    {
      "cell_type": "code",
      "source": [
        "# 0) Make sure SHAP was computed on X_valid (not df)\n",
        "#    If you already ran this earlier, you can skip.\n",
        "import shap\n",
        "explainer = shap.TreeExplainer(model)\n",
        "shap_values = explainer(X_valid)   # <-- SHAP is now for X_valid rows\n",
        "\n",
        "# 1) See the *features actually fed to the model* for rows 0..10\n",
        "Xv_0_10 = X_valid.reset_index(drop=True).iloc[0:11]\n",
        "display(Xv_0_10)  # or print(Xv_0_10)\n",
        "\n",
        "# 2) See the *original df rows* that correspond to those validation rows\n",
        "#    (use the original indices preserved in X_valid.index)\n",
        "orig_rows_0_10 = df.loc[X_valid.index[0:11]]\n",
        "display(orig_rows_0_10)  # full raw data slice from the original df\n",
        "\n",
        "# 3) Confirm SHAP is for these exact rows & print a concise per-row summary\n",
        "import numpy as np\n",
        "import pandas as pd\n",
        "\n",
        "# predicted probabilities for these same rows\n",
        "probs_0_10 = model.predict_proba(X_valid.iloc[0:11])[:, 1]\n",
        "true_0_10  = y_valid.iloc[0:11].values\n",
        "\n",
        "# build a small table with top-3 SHAP features per row\n",
        "if hasattr(X_valid, \"columns\"):\n",
        "    feature_names = np.array(X_valid.columns)\n",
        "else:\n",
        "    feature_names = np.array([f\"f{i}\" for i in range(X_valid.shape[1])])\n",
        "\n",
        "rows = []\n",
        "for row_idx in range(11):\n",
        "    vals = shap_values.values[row_idx]  # SHAP for this X_valid row (log-odds)\n",
        "    top = np.argsort(np.abs(vals))[::-1][:3]\n",
        "    rows.append({\n",
        "        \"row_idx_in_valid\": row_idx,\n",
        "        \"orig_df_index\": X_valid.index[row_idx],\n",
        "        \"true_label\": int(true_0_10[row_idx]),\n",
        "        \"pred_prob_bad\": float(probs_0_10[row_idx]),\n",
        "        \"top1\": f\"{feature_names[top[0]]}: {vals[top[0]]:+.4f}\",\n",
        "        \"top2\": f\"{feature_names[top[1]]}: {vals[top[1]]:+.4f}\",\n",
        "        \"top3\": f\"{feature_names[top[2]]}: {vals[top[2]]:+.4f}\",\n",
        "    })\n",
        "\n",
        "summary = pd.DataFrame(rows)\n",
        "display(summary)\n",
        "\n"
      ],
      "metadata": {
        "id": "xJ7rnv4wJtfP"
      },
      "execution_count": null,
      "outputs": []
    },
    {
      "cell_type": "code",
      "source": [
        "from xgboost import plot_tree, to_graphviz\n"
      ],
      "metadata": {
        "id": "OHez-VsVKkl9"
      },
      "execution_count": null,
      "outputs": []
    },
    {
      "cell_type": "code",
      "source": [
        "model = xgb.XGBClassifier(\n",
        "    n_estimators=2,\n",
        "    learning_rate=1,\n",
        "    max_depth=1,\n",
        "    subsample=0.8,\n",
        "    colsample_bytree=0.8,\n",
        "    random_state=42,\n",
        "    eval_metric=\"auc\"\n",
        ")\n",
        "model.fit(X_train, y_train)\n",
        "\n",
        "# Tree 0\n",
        "dot0 = to_graphviz(model, tree_idx=0, rankdir=\"LR\")\n",
        "dot0.render(\"xgb_tree0\", format=\"pdf\")\n",
        "\n",
        "# Tree 1\n",
        "dot1 = to_graphviz(model, tree_idx=1, rankdir=\"LR\")\n",
        "dot1.render(\"xgb_tree1\", format=\"pdf\")\n",
        "from google.colab import files\n",
        "files.download(\"xgb_tree0.pdf\")\n",
        "files.download(\"xgb_tree1.pdf\")\n",
        "\n"
      ],
      "metadata": {
        "id": "nRM3BCZwr6Ox"
      },
      "execution_count": null,
      "outputs": []
    },
    {
      "cell_type": "code",
      "source": [
        "from google.colab import files\n",
        "files.download(\"xgb_tree0.pdf\")\n",
        "files.download(\"xgb_tree1.pdf\")"
      ],
      "metadata": {
        "id": "RtiEVpX6vmFO"
      },
      "execution_count": null,
      "outputs": []
    }
  ]
}